{
 "cells": [
  {
   "cell_type": "markdown",
   "metadata": {},
   "source": [
    "### Question 1\n",
    "Write a function to print \"hello_USERNAME!\" USERNAME is the input of the function. The first line of the code has been defined as below.\n",
    "\n",
    "    def hello_name(user_name):\n",
    "        ....."
   ]
  },
  {
   "cell_type": "code",
   "execution_count": 7,
   "metadata": {},
   "outputs": [
    {
     "name": "stdout",
     "output_type": "stream",
     "text": [
      "Hello, Shoha!\n",
      "Hello, Aaron!\n",
      "Hello, Emily!\n",
      "Hello, Colby!\n",
      "Hello, Marwa!\n",
      "Hello, Michael!\n",
      "Hello, Todd!\n"
     ]
    }
   ],
   "source": [
    "# every function takes input (or no input)\n",
    "# does a transformation or action\n",
    "# and gives back some output (can be no output)\n",
    "def hello(user_name):\n",
    "    print(f\"Hello, {user_name}!\")\n",
    "        \n",
    "hello('Shoha')\n",
    "hello('Aaron')\n",
    "hello('Emily')\n",
    "hello('Colby')\n",
    "hello('Marwa')\n",
    "hello('Michael')\n",
    "hello('Todd')"
   ]
  },
  {
   "cell_type": "markdown",
   "metadata": {},
   "source": [
    "### Question 2\n",
    "Print first 100 odd numbers in Python."
   ]
  },
  {
   "cell_type": "code",
   "execution_count": 20,
   "metadata": {},
   "outputs": [
    {
     "name": "stdout",
     "output_type": "stream",
     "text": [
      "[1, 3, 5, 7, 9, 11, 13, 15, 17, 19, 21, 23, 25, 27, 29, 31, 33, 35, 37, 39, 41, 43, 45, 47, 49, 51, 53, 55, 57, 59, 61, 63, 65, 67, 69, 71, 73, 75, 77, 79, 81, 83, 85, 87, 89, 91, 93, 95, 97, 99, 101, 103, 105, 107, 109, 111, 113, 115, 117, 119, 121, 123, 125, 127, 129, 131, 133, 135, 137, 139, 141, 143, 145, 147, 149, 151, 153, 155, 157, 159, 161, 163, 165, 167, 169, 171, 173, 175, 177, 179, 181, 183, 185, 187, 189, 191, 193, 195, 197, 199]\n"
     ]
    }
   ],
   "source": [
    "#for i in range(200):\n",
    "    #if (i+1) % 2 != 0:\n",
    "        #print(i+1)\n",
    "        \n",
    "#i = 1\n",
    "#while i < 200:\n",
    "    #print(i)\n",
    "    #i += 2\n",
    "\n",
    "#nums = []\n",
    "#for i in range(1, 200, 2):\n",
    "    #nums.append(i)\n",
    "#print(nums)\n",
    "\n",
    "\n",
    "# or use a list comprehension (best practice)\n",
    "nums = [x for x in range(1,200,2)]\n",
    "print(nums)"
   ]
  },
  {
   "cell_type": "markdown",
   "metadata": {},
   "source": [
    "### Question 3\n",
    "Please write a Python function, max_num_in_list to return the max number of a given list. The first line of the code has been defined as below.\n",
    "\n",
    "    def max_num_in_list(a_list):\n",
    "        ....."
   ]
  },
  {
   "cell_type": "code",
   "execution_count": 23,
   "metadata": {},
   "outputs": [
    {
     "name": "stdout",
     "output_type": "stream",
     "text": [
      "39\n"
     ]
    }
   ],
   "source": [
    "def max_num_in_list(a_list):\n",
    "    return max(a_list)\n",
    "\n",
    "print(max_num_in_list([17, 39, 12, 2]))"
   ]
  },
  {
   "cell_type": "markdown",
   "metadata": {},
   "source": [
    "### Question 4\n",
    "Write a function to return if the given year is a leap year. A leap year is divisible by 4, but not divisible by 100, unless it is also divisible by 400. The return should be boolean Type (true/false).\n",
    "\n",
    "    def is_leap_year(a_year):\n",
    "        ....."
   ]
  },
  {
   "cell_type": "code",
   "execution_count": 34,
   "metadata": {},
   "outputs": [
    {
     "data": {
      "text/plain": [
       "True"
      ]
     },
     "execution_count": 34,
     "metadata": {},
     "output_type": "execute_result"
    }
   ],
   "source": [
    "# if divisible by 4 but not 100 unless 400\n",
    "\n",
    "def is_leap_year(a_year):\n",
    "    return (a_year % 400 == 0) or ((a_year % 4 == 0) and (a_year % 100 != 0))\n",
    "\n",
    "is_leap_year(88)"
   ]
  },
  {
   "cell_type": "markdown",
   "metadata": {},
   "source": [
    "### Question 5\n",
    "Write a function to check to see if all numbers in list are consecutive numbers. For example, [2,3,4,5,6,7] are consecutive numbers, but [1,2,4,5] are not consecutive numbers. The return should be boolean Type.\n",
    "\n",
    "    def is_consecutive(a_list):\n",
    "        ....."
   ]
  },
  {
   "cell_type": "code",
   "execution_count": 39,
   "metadata": {},
   "outputs": [
    {
     "name": "stdout",
     "output_type": "stream",
     "text": [
      "index 0: value 2\n",
      "index 1: value 3\n",
      "index 2: value 4\n",
      "index 3: value 5\n",
      "index 4: value 6\n"
     ]
    },
    {
     "data": {
      "text/plain": [
       "True"
      ]
     },
     "execution_count": 39,
     "metadata": {},
     "output_type": "execute_result"
    }
   ],
   "source": [
    "# every list regardless of what is in it has the same index numbers -> indicies start at 0 for all iterables\n",
    "# index numbers: [0, 1, 2, 3]\n",
    "\n",
    "def is_consecutive(a_list):\n",
    "    for i in range(0, len(a_list)-1):\n",
    "        # is value at index i equal to value-1 of index i+1?\n",
    "        # if not return false - not a consecutive list\n",
    "        print(f\"index {i}: value {a_list[i]}\")\n",
    "        if a_list[i]+1 != a_list[i+1]:\n",
    "            return False\n",
    "    return True\n",
    "\n",
    "is_consecutive([2, 3, 4, 5, 6, 7])"
   ]
  },
  {
   "cell_type": "code",
   "execution_count": null,
   "metadata": {},
   "outputs": [],
   "source": []
  }
 ],
 "metadata": {
  "kernelspec": {
   "display_name": "Python 3",
   "language": "python",
   "name": "python3"
  },
  "language_info": {
   "codemirror_mode": {
    "name": "ipython",
    "version": 3
   },
   "file_extension": ".py",
   "mimetype": "text/x-python",
   "name": "python",
   "nbconvert_exporter": "python",
   "pygments_lexer": "ipython3",
   "version": "3.8.3"
  }
 },
 "nbformat": 4,
 "nbformat_minor": 4
}
